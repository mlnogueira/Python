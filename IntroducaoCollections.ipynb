{
  "nbformat": 4,
  "nbformat_minor": 0,
  "metadata": {
    "colab": {
      "name": "IntroducaoCollections.ipynb",
      "provenance": [],
      "collapsed_sections": [],
      "include_colab_link": true
    },
    "kernelspec": {
      "name": "python3",
      "display_name": "Python 3"
    }
  },
  "cells": [
    {
      "cell_type": "markdown",
      "metadata": {
        "id": "view-in-github",
        "colab_type": "text"
      },
      "source": [
        "<a href=\"https://colab.research.google.com/github/mlnogueira/Python/blob/master/IntroducaoCollections.ipynb\" target=\"_parent\"><img src=\"https://colab.research.google.com/assets/colab-badge.svg\" alt=\"Open In Colab\"/></a>"
      ]
    },
    {
      "cell_type": "code",
      "metadata": {
        "id": "uxrYhnMsZOP0",
        "colab_type": "code",
        "colab": {
          "base_uri": "https://localhost:8080/",
          "height": 68
        },
        "outputId": "d1298f2b-313f-4841-9abb-21b92d0c0852"
      },
      "source": [
        "idade1 = 39\n",
        "idade2 = 30\n",
        "idade3 = 27\n",
        "\n",
        "print(idade1)\n",
        "print(idade2)\n",
        "print(idade3)\n"
      ],
      "execution_count": 1,
      "outputs": [
        {
          "output_type": "stream",
          "text": [
            "39\n",
            "30\n",
            "27\n"
          ],
          "name": "stdout"
        }
      ]
    },
    {
      "cell_type": "code",
      "metadata": {
        "id": "Ha9y0oBaaZSM",
        "colab_type": "code",
        "colab": {}
      },
      "source": [
        "idades = [39, 30, 27, 18]"
      ],
      "execution_count": 0,
      "outputs": []
    },
    {
      "cell_type": "code",
      "metadata": {
        "id": "tGL78m1_auo-",
        "colab_type": "code",
        "colab": {
          "base_uri": "https://localhost:8080/",
          "height": 34
        },
        "outputId": "8301342f-3492-4922-f2d5-1f72b5796878"
      },
      "source": [
        "type(idades)"
      ],
      "execution_count": 4,
      "outputs": [
        {
          "output_type": "execute_result",
          "data": {
            "text/plain": [
              "list"
            ]
          },
          "metadata": {
            "tags": []
          },
          "execution_count": 4
        }
      ]
    },
    {
      "cell_type": "code",
      "metadata": {
        "id": "-eNrmBLwazxF",
        "colab_type": "code",
        "colab": {
          "base_uri": "https://localhost:8080/",
          "height": 34
        },
        "outputId": "2bb739da-4d9b-435a-cd6f-3213b7f37e75"
      },
      "source": [
        "idades"
      ],
      "execution_count": 5,
      "outputs": [
        {
          "output_type": "execute_result",
          "data": {
            "text/plain": [
              "[39, 30, 27, 18]"
            ]
          },
          "metadata": {
            "tags": []
          },
          "execution_count": 5
        }
      ]
    },
    {
      "cell_type": "code",
      "metadata": {
        "id": "fyDPbFA4a2hD",
        "colab_type": "code",
        "colab": {
          "base_uri": "https://localhost:8080/",
          "height": 34
        },
        "outputId": "08cc86a2-3c36-4b3f-ff43-02ffc16a5f37"
      },
      "source": [
        "idades[0]"
      ],
      "execution_count": 6,
      "outputs": [
        {
          "output_type": "execute_result",
          "data": {
            "text/plain": [
              "39"
            ]
          },
          "metadata": {
            "tags": []
          },
          "execution_count": 6
        }
      ]
    },
    {
      "cell_type": "code",
      "metadata": {
        "id": "2If4wklKa_wa",
        "colab_type": "code",
        "colab": {}
      },
      "source": [
        "idades.append(23)"
      ],
      "execution_count": 0,
      "outputs": []
    },
    {
      "cell_type": "code",
      "metadata": {
        "id": "pKSGwc93bhcn",
        "colab_type": "code",
        "colab": {
          "base_uri": "https://localhost:8080/",
          "height": 34
        },
        "outputId": "e478f2b9-5fa2-422b-a322-0568571743ce"
      },
      "source": [
        "idades.pop(3)"
      ],
      "execution_count": 9,
      "outputs": [
        {
          "output_type": "execute_result",
          "data": {
            "text/plain": [
              "18"
            ]
          },
          "metadata": {
            "tags": []
          },
          "execution_count": 9
        }
      ]
    },
    {
      "cell_type": "code",
      "metadata": {
        "id": "2h3cOhQPbt_x",
        "colab_type": "code",
        "colab": {}
      },
      "source": [
        "idades.append(18)"
      ],
      "execution_count": 0,
      "outputs": []
    },
    {
      "cell_type": "code",
      "metadata": {
        "id": "Td-YB82bb0V4",
        "colab_type": "code",
        "colab": {}
      },
      "source": [
        "idades.append(23)"
      ],
      "execution_count": 0,
      "outputs": []
    },
    {
      "cell_type": "code",
      "metadata": {
        "id": "wZrox4p2b2uC",
        "colab_type": "code",
        "colab": {
          "base_uri": "https://localhost:8080/",
          "height": 164
        },
        "outputId": "dc5fc42b-f869-447c-c1da-ad2a14228653"
      },
      "source": [
        "idades.pop(4)"
      ],
      "execution_count": 14,
      "outputs": [
        {
          "output_type": "error",
          "ename": "IndexError",
          "evalue": "ignored",
          "traceback": [
            "\u001b[0;31m---------------------------------------------------------------------------\u001b[0m",
            "\u001b[0;31mIndexError\u001b[0m                                Traceback (most recent call last)",
            "\u001b[0;32m<ipython-input-14-fbc02e681396>\u001b[0m in \u001b[0;36m<module>\u001b[0;34m()\u001b[0m\n\u001b[0;32m----> 1\u001b[0;31m \u001b[0midades\u001b[0m\u001b[0;34m.\u001b[0m\u001b[0mpop\u001b[0m\u001b[0;34m(\u001b[0m\u001b[0;36m4\u001b[0m\u001b[0;34m)\u001b[0m\u001b[0;34m\u001b[0m\u001b[0;34m\u001b[0m\u001b[0m\n\u001b[0m",
            "\u001b[0;31mIndexError\u001b[0m: pop index out of range"
          ]
        }
      ]
    },
    {
      "cell_type": "code",
      "metadata": {
        "id": "bZpP6jwVcOU8",
        "colab_type": "code",
        "colab": {}
      },
      "source": [
        "def faz_processamento_de_visualizacao(lista):\n",
        "  print(len(lista))\n",
        "  lista.append(13)"
      ],
      "execution_count": 0,
      "outputs": []
    },
    {
      "cell_type": "code",
      "metadata": {
        "id": "SwUc6giShcWC",
        "colab_type": "code",
        "colab": {
          "base_uri": "https://localhost:8080/",
          "height": 51
        },
        "outputId": "96e6293a-7a98-4690-9322-7849a5a08dc2"
      },
      "source": [
        "faz_processamento_de_visualizacao(idades)\n",
        "idades"
      ],
      "execution_count": 18,
      "outputs": [
        {
          "output_type": "stream",
          "text": [
            "4\n"
          ],
          "name": "stdout"
        },
        {
          "output_type": "execute_result",
          "data": {
            "text/plain": [
              "[39, 30, 27, 18, 13]"
            ]
          },
          "metadata": {
            "tags": []
          },
          "execution_count": 18
        }
      ]
    },
    {
      "cell_type": "code",
      "metadata": {
        "id": "aBJw0bU3kvPZ",
        "colab_type": "code",
        "colab": {}
      },
      "source": [
        "class ContaCorrente:\n",
        "  def __init__(self, codigo):\n",
        "    self.codigo = codigo\n",
        "    self.saldo = 0\n",
        "  \n",
        "  def deposita(self, valor):\n",
        "    self.saldo += valor\n",
        "  \n",
        "  def __str__(self):\n",
        "    return \"[>> Codigo {} Saldo {}<<]\".format(self.codigo, self.saldo)"
      ],
      "execution_count": 0,
      "outputs": []
    },
    {
      "cell_type": "code",
      "metadata": {
        "id": "5TEJsmadlDGn",
        "colab_type": "code",
        "colab": {}
      },
      "source": [
        "conta_marcelo = ContaCorrente(234)\n",
        "conta_marcelo.deposita(1250.00)\n",
        "conta_anaflavia = ContaCorrente(543)\n",
        "conta_anaflavia.deposita(3245.00)"
      ],
      "execution_count": 0,
      "outputs": []
    },
    {
      "cell_type": "code",
      "metadata": {
        "id": "65JUlOaNnaGr",
        "colab_type": "code",
        "colab": {
          "base_uri": "https://localhost:8080/",
          "height": 68
        },
        "outputId": "e3244e9c-3179-4d24-aeff-463f1fe980a0"
      },
      "source": [
        "contas = [conta_anaflavia, conta_marcelo]\n",
        "print(contas)\n",
        "print(conta_anaflavia)\n",
        "print(conta_marcelo)"
      ],
      "execution_count": 28,
      "outputs": [
        {
          "output_type": "stream",
          "text": [
            "[<__main__.ContaCorrente object at 0x7f57c7044e48>, <__main__.ContaCorrente object at 0x7f57c705dc18>]\n",
            "[>> Codigo 543 Saldo 3245.0<<]\n",
            "[>> Codigo 234 Saldo 1250.0<<]\n"
          ],
          "name": "stdout"
        }
      ]
    }
  ]
}